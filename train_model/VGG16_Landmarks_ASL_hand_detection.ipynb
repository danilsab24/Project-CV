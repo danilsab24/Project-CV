{
  "cells": [
    {
      "cell_type": "markdown",
      "metadata": {
        "id": "Of5wCLayx7lF"
      },
      "source": [
        "# Import of Librerie"
      ]
    },
    {
      "cell_type": "code",
      "execution_count": null,
      "metadata": {
        "id": "DoKwVKv5x1qh"
      },
      "outputs": [],
      "source": [
        "import zipfile\n",
        "import os\n",
        "\n",
        "from PIL import Image\n",
        "import random\n",
        "import matplotlib.pyplot as plt\n",
        "import numpy as np\n",
        "from pathlib import Path\n",
        "import shutil\n",
        "import cv2\n",
        "\n",
        "from torchvision import datasets, transforms\n",
        "from torch.utils.data import Dataset, DataLoader\n",
        "from torchvision.datasets import ImageFolder\n",
        "from tqdm import tqdm\n",
        "\n",
        "import torch\n",
        "import torch.nn as nn\n",
        "import torch.optim as optim\n",
        "import torchvision.models as models\n",
        "import copy\n",
        "import matplotlib.pyplot as plt\n",
        "\n",
        "from sklearn.metrics import precision_score, recall_score, f1_score, confusion_matrix, classification_report, accuracy_score\n",
        "import matplotlib.pyplot as plt\n",
        "import seaborn as sns\n",
        "from torchvision.transforms import ToPILImage"
      ]
    },
    {
      "cell_type": "markdown",
      "metadata": {
        "id": "30AMqoaQysGY"
      },
      "source": [
        "# Mount Drive"
      ]
    },
    {
      "cell_type": "code",
      "execution_count": null,
      "metadata": {
        "colab": {
          "base_uri": "https://localhost:8080/"
        },
        "id": "V7cRJrzSyvOU",
        "outputId": "ebaf81ff-85cb-4446-88a9-e6e65f81a299"
      },
      "outputs": [
        {
          "output_type": "stream",
          "name": "stdout",
          "text": [
            "Mounted at /content/drive\n"
          ]
        }
      ],
      "source": [
        "from google.colab import drive\n",
        "drive.mount('/content/drive')"
      ]
    },
    {
      "cell_type": "markdown",
      "metadata": {
        "id": "_0w20xHk0x6T"
      },
      "source": [
        "# Dataset"
      ]
    },
    {
      "cell_type": "code",
      "execution_count": null,
      "metadata": {
        "id": "PLNq2CQ991g_"
      },
      "outputs": [],
      "source": [
        "file_path = '/content/drive/MyDrive/Computer Vision/PROJECT/dataset_hand_gesture/hand_craft_dataset/only_landmarks.zip'\n",
        "\n",
        "# Unzip the file to a specific destination\n",
        "with zipfile.ZipFile(file_path, 'r') as zip_ref:\n",
        "    zip_ref.extractall('/content/sample_data')"
      ]
    },
    {
      "cell_type": "code",
      "source": [
        "output_path = '/content/sample_data/only_landmarks/nothing'\n",
        "\n",
        "os.makedirs(output_path, exist_ok=True)\n",
        "\n",
        "width, height = 640, 480\n",
        "\n",
        "num_images = 600\n",
        "\n",
        "for i in range(num_images):\n",
        "\n",
        "    white_image = np.ones((height, width, 3), dtype=np.uint8) * 255\n",
        "\n",
        "    image_path = os.path.join(output_path, f'white_image_{i+1}.png')\n",
        "\n",
        "    cv2.imwrite(image_path, white_image)\n",
        "\n",
        "print(f\"Created {num_images} white images in '{output_path}'\")\n"
      ],
      "metadata": {
        "colab": {
          "base_uri": "https://localhost:8080/"
        },
        "id": "Jjrqr9u3BEjs",
        "outputId": "f0e23486-cbe7-4028-f0c8-2f92efdfc99f"
      },
      "execution_count": null,
      "outputs": [
        {
          "output_type": "stream",
          "name": "stdout",
          "text": [
            "Created 600 white images in '/content/sample_data/only_landmarks/nothing'\n"
          ]
        }
      ]
    },
    {
      "cell_type": "markdown",
      "metadata": {
        "id": "R35mO4Tq_eS5"
      },
      "source": [
        "# Data Mangement"
      ]
    },
    {
      "cell_type": "code",
      "execution_count": 1,
      "metadata": {
        "colab": {
          "base_uri": "https://localhost:8080/"
        },
        "id": "1PVf5-IzjkhM",
        "outputId": "25f909c6-6587-47c6-f7a3-b4370996ecf7"
      },
      "outputs": [
        {
          "output_type": "stream",
          "name": "stdout",
          "text": [
            "All sub-folder /content/sample_data/DATA was eliminated.\n"
          ]
        }
      ],
      "source": [
        "directory_to_clear = Path('/content/sample_data/DATA')\n",
        "\n",
        "def clear_directory(directory_path):\n",
        "    if directory_path.exists() and directory_path.is_dir():\n",
        "        shutil.rmtree(directory_path)\n",
        "        print(f\"All sub-folder {directory_path} was eliminated.\")\n",
        "        directory_path.mkdir(parents=True, exist_ok=True)\n",
        "    else:\n",
        "        print(f\"The directory {directory_path} doesn't exist or is not valid.\")\n",
        "\n",
        "#clear_directory(directory_to_clear)"
      ]
    },
    {
      "cell_type": "markdown",
      "metadata": {
        "id": "rJ5XRkxw_s18"
      },
      "source": [
        "# Check dimension"
      ]
    },
    {
      "cell_type": "code",
      "execution_count": null,
      "metadata": {
        "id": "ydi1-Rlz-IL4",
        "colab": {
          "base_uri": "https://localhost:8080/"
        },
        "outputId": "83a7e1f2-0ca1-4678-da1f-d3596fa61155"
      },
      "outputs": [
        {
          "output_type": "stream",
          "name": "stdout",
          "text": [
            "All images have the same dimensions: (640, 480)\n"
          ]
        }
      ],
      "source": [
        "def check_image_dimensions(directory):\n",
        "    dimensions = None\n",
        "    all_same = True\n",
        "\n",
        "    for root, _, files in os.walk(directory):\n",
        "        for file in files:\n",
        "            if file.endswith(('jpg', 'png')):\n",
        "                image_path = os.path.join(root, file)\n",
        "                with Image.open(image_path) as img:\n",
        "                    current_dimensions = img.size\n",
        "\n",
        "                    if dimensions is None:\n",
        "                        dimensions = current_dimensions\n",
        "                    elif current_dimensions != dimensions:\n",
        "                        print(f\"Dimension mismatch found in file: {image_path} (Dimensions: {current_dimensions})\")\n",
        "                        all_same = False\n",
        "\n",
        "    if all_same:\n",
        "        print(\"All images have the same dimensions:\", dimensions)\n",
        "    else:\n",
        "        print(\"Not all images have the same dimensions.\")\n",
        "\n",
        "# Path to the directory containing the images\n",
        "directory_path = \"/content/sample_data/only_landmarks\"\n",
        "\n",
        "# Check if all images have the same dimensions\n",
        "check_image_dimensions(directory_path)"
      ]
    },
    {
      "cell_type": "markdown",
      "metadata": {
        "id": "ekO-0WWPBF4O"
      },
      "source": [
        "# Code for trainloader validation loader e trainloader\n",
        "\n"
      ]
    },
    {
      "cell_type": "code",
      "execution_count": null,
      "metadata": {
        "id": "U7nsAgty0R5e",
        "colab": {
          "base_uri": "https://localhost:8080/"
        },
        "outputId": "5067fb9d-36c4-4385-b0e0-9d40c2d8b055"
      },
      "outputs": [
        {
          "output_type": "stream",
          "name": "stdout",
          "text": [
            "Image counts in original dataset folder:\n",
            "I: 601\n",
            "L: 601\n",
            "O: 601\n",
            "Z: 601\n",
            "A: 600\n",
            "G: 601\n",
            "nothing: 600\n",
            "U: 601\n",
            "W: 601\n",
            "K: 601\n",
            "P: 601\n",
            "J: 601\n",
            "S: 602\n",
            "del: 590\n",
            "D: 601\n",
            "T: 601\n",
            "M: 601\n",
            "N: 601\n",
            "E: 601\n",
            "B: 601\n",
            "R: 601\n",
            "H: 601\n",
            "F: 601\n",
            "Y: 601\n",
            "X: 601\n",
            "V: 601\n",
            "C: 601\n",
            "space: 601\n",
            "Q: 601\n",
            "\n",
            "Image counts in train folder:\n",
            "I: 540\n",
            "L: 540\n",
            "O: 540\n",
            "Z: 540\n",
            "A: 540\n",
            "G: 540\n",
            "nothing: 540\n",
            "U: 540\n",
            "W: 540\n",
            "K: 540\n",
            "P: 540\n",
            "J: 540\n",
            "S: 541\n",
            "del: 531\n",
            "D: 540\n",
            "T: 540\n",
            "M: 540\n",
            "N: 540\n",
            "E: 540\n",
            "B: 540\n",
            "R: 540\n",
            "H: 540\n",
            "F: 540\n",
            "Y: 540\n",
            "X: 540\n",
            "V: 540\n",
            "C: 540\n",
            "space: 540\n",
            "Q: 540\n",
            "\n",
            "Image counts in validation folder:\n",
            "I: 30\n",
            "L: 30\n",
            "O: 30\n",
            "Z: 30\n",
            "A: 30\n",
            "G: 30\n",
            "nothing: 30\n",
            "U: 30\n",
            "W: 30\n",
            "K: 30\n",
            "P: 30\n",
            "J: 30\n",
            "S: 30\n",
            "del: 29\n",
            "D: 30\n",
            "T: 30\n",
            "M: 30\n",
            "N: 30\n",
            "E: 30\n",
            "B: 30\n",
            "R: 30\n",
            "H: 30\n",
            "F: 30\n",
            "Y: 30\n",
            "X: 30\n",
            "V: 30\n",
            "C: 30\n",
            "space: 30\n",
            "Q: 30\n",
            "\n",
            "Image counts in test folder:\n",
            "I: 31\n",
            "L: 31\n",
            "O: 31\n",
            "Z: 31\n",
            "A: 30\n",
            "G: 31\n",
            "nothing: 30\n",
            "U: 31\n",
            "W: 31\n",
            "K: 31\n",
            "P: 31\n",
            "J: 31\n",
            "S: 31\n",
            "del: 30\n",
            "D: 31\n",
            "T: 31\n",
            "M: 31\n",
            "N: 31\n",
            "E: 31\n",
            "B: 31\n",
            "R: 31\n",
            "H: 31\n",
            "F: 31\n",
            "Y: 31\n",
            "X: 31\n",
            "V: 31\n",
            "C: 31\n",
            "space: 31\n",
            "Q: 31\n",
            "\n"
          ]
        }
      ],
      "source": [
        "def create_folders(base_path, categories):\n",
        "    for category in categories:\n",
        "        os.makedirs(os.path.join(base_path, category), exist_ok=True)\n",
        "\n",
        "def count_images_in_subfolders(base_path, categories):\n",
        "    counts = {}\n",
        "    for category in categories:\n",
        "        category_path = os.path.join(base_path, category)\n",
        "        if os.path.isdir(category_path):\n",
        "            counts[category] = len(os.listdir(category_path))\n",
        "    return counts\n",
        "\n",
        "def print_image_counts(counts, folder_name):\n",
        "    print(f\"Image counts in {folder_name} folder:\")\n",
        "    for category, count in counts.items():\n",
        "        print(f\"{category}: {count}\")\n",
        "    print()\n",
        "\n",
        "def split_dataset(dataset_path, train_path, val_path, test_path, split_ratio=(0.9, 0.05, 0.05)):\n",
        "    categories = [d for d in os.listdir(dataset_path) if os.path.isdir(os.path.join(dataset_path, d))]\n",
        "\n",
        "    create_folders(train_path, categories)\n",
        "    create_folders(val_path, categories)\n",
        "    create_folders(test_path, categories)\n",
        "\n",
        "    original_counts = count_images_in_subfolders(dataset_path, categories)\n",
        "    print_image_counts(original_counts, 'original dataset')\n",
        "\n",
        "    for category in categories:\n",
        "        category_path = os.path.join(dataset_path, category)\n",
        "        images = os.listdir(category_path)\n",
        "\n",
        "        random.shuffle(images)\n",
        "\n",
        "        train_end = int(len(images) * split_ratio[0])\n",
        "        val_end = train_end + int(len(images) * split_ratio[1])\n",
        "\n",
        "        train_images = images[:train_end]\n",
        "        val_images = images[train_end:val_end]\n",
        "        test_images = images[val_end:]\n",
        "\n",
        "        for image in train_images:\n",
        "            shutil.copy(os.path.join(category_path, image), os.path.join(train_path, category, image))\n",
        "        for image in val_images:\n",
        "            shutil.copy(os.path.join(category_path, image), os.path.join(val_path, category, image))\n",
        "        for image in test_images:\n",
        "            shutil.copy(os.path.join(category_path, image), os.path.join(test_path, category, image))\n",
        "\n",
        "    train_counts = count_images_in_subfolders(train_path, categories)\n",
        "    val_counts = count_images_in_subfolders(val_path, categories)\n",
        "    test_counts = count_images_in_subfolders(test_path, categories)\n",
        "\n",
        "    print_image_counts(train_counts, 'train')\n",
        "    print_image_counts(val_counts, 'validation')\n",
        "    print_image_counts(test_counts, 'test')\n",
        "\n",
        "if __name__ == \"__main__\":\n",
        "    dataset_path = '/content/sample_data/only_landmarks'\n",
        "    train_path = '/content/sample_data/DATA/train'\n",
        "    val_path = '/content/sample_data/DATA/validation'\n",
        "    test_path = '/content/sample_data/DATA/test'\n",
        "\n",
        "    split_dataset(dataset_path, train_path, val_path, test_path)\n"
      ]
    },
    {
      "cell_type": "code",
      "execution_count": null,
      "metadata": {
        "id": "72NOB08TATDf"
      },
      "outputs": [],
      "source": [
        "transform_train = transforms.Compose([\n",
        "    transforms.Resize((480, 640)),\n",
        "    transforms.ToTensor(),\n",
        "    transforms.Normalize([0.485, 0.456, 0.406], [0.229, 0.224, 0.225])\n",
        "])\n",
        "transform_test = transforms.Compose([\n",
        "    transforms.Resize((480, 640)),\n",
        "    transforms.ToTensor(),\n",
        "])"
      ]
    },
    {
      "cell_type": "code",
      "source": [
        "# directory path\n",
        "train_path = '/content/sample_data/DATA/train'\n",
        "val_path = '/content/sample_data/DATA/validation'\n",
        "test_path = '/content/sample_data/DATA/test'\n",
        "\n",
        "# load dataset\n",
        "train_data = ImageFolder(root=train_path, transform=transform_train)\n",
        "val_data = ImageFolder(root=val_path, transform=transform_test)\n",
        "test_data = ImageFolder(root=test_path, transform=transform_test)\n",
        "\n",
        "# size batch\n",
        "batch_size = 16\n",
        "\n",
        "train_loader = DataLoader(train_data, batch_size=batch_size, shuffle=True)\n",
        "val_loader = DataLoader(val_data, batch_size=batch_size, shuffle=False)\n",
        "test_loader = DataLoader(test_data, batch_size=batch_size, shuffle=False)\n",
        "\n",
        "class_names = train_data.classes\n",
        "print(class_names)"
      ],
      "metadata": {
        "colab": {
          "base_uri": "https://localhost:8080/"
        },
        "id": "etCdDfPa-ArJ",
        "outputId": "6167c227-32b2-459c-83e4-cf469a25390a"
      },
      "execution_count": null,
      "outputs": [
        {
          "output_type": "stream",
          "name": "stdout",
          "text": [
            "['A', 'B', 'C', 'D', 'E', 'F', 'G', 'H', 'I', 'J', 'K', 'L', 'M', 'N', 'O', 'P', 'Q', 'R', 'S', 'T', 'U', 'V', 'W', 'X', 'Y', 'Z', 'del', 'nothing', 'space']\n"
          ]
        }
      ]
    },
    {
      "cell_type": "markdown",
      "metadata": {
        "id": "AUBEdzVuiRYb"
      },
      "source": [
        "# VGG16\n",
        "image size 640x480"
      ]
    },
    {
      "cell_type": "code",
      "execution_count": null,
      "metadata": {
        "id": "D7YgAPXUiEWS",
        "colab": {
          "base_uri": "https://localhost:8080/"
        },
        "outputId": "5e6c1452-435d-4cc6-f7ab-7887f231d150"
      },
      "outputs": [
        {
          "output_type": "stream",
          "name": "stderr",
          "text": [
            "Downloading: \"https://download.pytorch.org/models/vgg16-397923af.pth\" to /root/.cache/torch/hub/checkpoints/vgg16-397923af.pth\n",
            "100%|██████████| 528M/528M [00:06<00:00, 88.2MB/s]\n"
          ]
        }
      ],
      "source": [
        "class HandGestureVGG16(nn.Module):\n",
        "    def __init__(self, num_classes=29):\n",
        "        super(HandGestureVGG16, self).__init__()\n",
        "        # Load pre-trained model\n",
        "        self.vgg16 = models.vgg16(weights='IMAGENET1K_V1')\n",
        "\n",
        "        # change last layer for our task\n",
        "        self.vgg16.classifier[6] = nn.Linear(4096, num_classes)\n",
        "\n",
        "    def forward(self, x):\n",
        "        return self.vgg16(x)\n",
        "\n",
        "num_classes = 29\n",
        "model = HandGestureVGG16(num_classes=num_classes)"
      ]
    },
    {
      "cell_type": "code",
      "execution_count": null,
      "metadata": {
        "colab": {
          "base_uri": "https://localhost:8080/"
        },
        "id": "U254VE0dia4t",
        "outputId": "79edf934-c3d6-4807-d1c2-78a17f148282"
      },
      "outputs": [
        {
          "output_type": "execute_result",
          "data": {
            "text/plain": [
              "HandGestureVGG16(\n",
              "  (vgg16): VGG(\n",
              "    (features): Sequential(\n",
              "      (0): Conv2d(3, 64, kernel_size=(3, 3), stride=(1, 1), padding=(1, 1))\n",
              "      (1): ReLU(inplace=True)\n",
              "      (2): Conv2d(64, 64, kernel_size=(3, 3), stride=(1, 1), padding=(1, 1))\n",
              "      (3): ReLU(inplace=True)\n",
              "      (4): MaxPool2d(kernel_size=2, stride=2, padding=0, dilation=1, ceil_mode=False)\n",
              "      (5): Conv2d(64, 128, kernel_size=(3, 3), stride=(1, 1), padding=(1, 1))\n",
              "      (6): ReLU(inplace=True)\n",
              "      (7): Conv2d(128, 128, kernel_size=(3, 3), stride=(1, 1), padding=(1, 1))\n",
              "      (8): ReLU(inplace=True)\n",
              "      (9): MaxPool2d(kernel_size=2, stride=2, padding=0, dilation=1, ceil_mode=False)\n",
              "      (10): Conv2d(128, 256, kernel_size=(3, 3), stride=(1, 1), padding=(1, 1))\n",
              "      (11): ReLU(inplace=True)\n",
              "      (12): Conv2d(256, 256, kernel_size=(3, 3), stride=(1, 1), padding=(1, 1))\n",
              "      (13): ReLU(inplace=True)\n",
              "      (14): Conv2d(256, 256, kernel_size=(3, 3), stride=(1, 1), padding=(1, 1))\n",
              "      (15): ReLU(inplace=True)\n",
              "      (16): MaxPool2d(kernel_size=2, stride=2, padding=0, dilation=1, ceil_mode=False)\n",
              "      (17): Conv2d(256, 512, kernel_size=(3, 3), stride=(1, 1), padding=(1, 1))\n",
              "      (18): ReLU(inplace=True)\n",
              "      (19): Conv2d(512, 512, kernel_size=(3, 3), stride=(1, 1), padding=(1, 1))\n",
              "      (20): ReLU(inplace=True)\n",
              "      (21): Conv2d(512, 512, kernel_size=(3, 3), stride=(1, 1), padding=(1, 1))\n",
              "      (22): ReLU(inplace=True)\n",
              "      (23): MaxPool2d(kernel_size=2, stride=2, padding=0, dilation=1, ceil_mode=False)\n",
              "      (24): Conv2d(512, 512, kernel_size=(3, 3), stride=(1, 1), padding=(1, 1))\n",
              "      (25): ReLU(inplace=True)\n",
              "      (26): Conv2d(512, 512, kernel_size=(3, 3), stride=(1, 1), padding=(1, 1))\n",
              "      (27): ReLU(inplace=True)\n",
              "      (28): Conv2d(512, 512, kernel_size=(3, 3), stride=(1, 1), padding=(1, 1))\n",
              "      (29): ReLU(inplace=True)\n",
              "      (30): MaxPool2d(kernel_size=2, stride=2, padding=0, dilation=1, ceil_mode=False)\n",
              "    )\n",
              "    (avgpool): AdaptiveAvgPool2d(output_size=(7, 7))\n",
              "    (classifier): Sequential(\n",
              "      (0): Linear(in_features=25088, out_features=4096, bias=True)\n",
              "      (1): ReLU(inplace=True)\n",
              "      (2): Dropout(p=0.5, inplace=False)\n",
              "      (3): Linear(in_features=4096, out_features=4096, bias=True)\n",
              "      (4): ReLU(inplace=True)\n",
              "      (5): Dropout(p=0.5, inplace=False)\n",
              "      (6): Linear(in_features=4096, out_features=29, bias=True)\n",
              "    )\n",
              "  )\n",
              ")"
            ]
          },
          "metadata": {},
          "execution_count": 9
        }
      ],
      "source": [
        "criterion = nn.CrossEntropyLoss()\n",
        "optimizer = optim.SGD(model.parameters(), lr=0.001)\n",
        "device = torch.device('cuda' if torch.cuda.is_available() else 'cpu')\n",
        "model.to(device)"
      ]
    },
    {
      "cell_type": "markdown",
      "metadata": {
        "id": "4EzEXvcGiu2S"
      },
      "source": [
        "# Train"
      ]
    },
    {
      "cell_type": "code",
      "execution_count": null,
      "metadata": {
        "colab": {
          "base_uri": "https://localhost:8080/"
        },
        "id": "iDkLVZ04ie5x",
        "outputId": "083476a2-ceb6-4292-fe1a-3802f347a967"
      },
      "outputs": [
        {
          "output_type": "stream",
          "name": "stdout",
          "text": [
            "Epoch 0/4\n",
            "----------\n"
          ]
        },
        {
          "output_type": "stream",
          "name": "stderr",
          "text": []
        },
        {
          "output_type": "stream",
          "name": "stdout",
          "text": [
            "train Loss: 1.1740 Acc: 0.6581\n"
          ]
        },
        {
          "output_type": "stream",
          "name": "stderr",
          "text": []
        },
        {
          "output_type": "stream",
          "name": "stdout",
          "text": [
            "val Loss: 0.6341 Acc: 0.8205\n",
            "Epoch 1/4\n",
            "----------\n"
          ]
        },
        {
          "output_type": "stream",
          "name": "stderr",
          "text": []
        },
        {
          "output_type": "stream",
          "name": "stdout",
          "text": [
            "train Loss: 0.0450 Acc: 0.9863\n"
          ]
        },
        {
          "output_type": "stream",
          "name": "stderr",
          "text": []
        },
        {
          "output_type": "stream",
          "name": "stdout",
          "text": [
            "val Loss: 0.2359 Acc: 0.9586\n",
            "Epoch 2/4\n",
            "----------\n"
          ]
        },
        {
          "output_type": "stream",
          "name": "stderr",
          "text": []
        },
        {
          "output_type": "stream",
          "name": "stdout",
          "text": [
            "train Loss: 0.0145 Acc: 0.9954\n"
          ]
        },
        {
          "output_type": "stream",
          "name": "stderr",
          "text": []
        },
        {
          "output_type": "stream",
          "name": "stdout",
          "text": [
            "val Loss: 0.1748 Acc: 0.9643\n",
            "Epoch 3/4\n",
            "----------\n"
          ]
        },
        {
          "output_type": "stream",
          "name": "stderr",
          "text": []
        },
        {
          "output_type": "stream",
          "name": "stdout",
          "text": [
            "train Loss: 0.0102 Acc: 0.9969\n"
          ]
        },
        {
          "output_type": "stream",
          "name": "stderr",
          "text": []
        },
        {
          "output_type": "stream",
          "name": "stdout",
          "text": [
            "val Loss: 0.0982 Acc: 0.9873\n",
            "Epoch 4/4\n",
            "----------\n"
          ]
        },
        {
          "output_type": "stream",
          "name": "stderr",
          "text": []
        },
        {
          "output_type": "stream",
          "name": "stdout",
          "text": [
            "train Loss: 0.0067 Acc: 0.9978\n"
          ]
        },
        {
          "output_type": "stream",
          "name": "stderr",
          "text": []
        },
        {
          "output_type": "stream",
          "name": "stdout",
          "text": [
            "val Loss: 0.1692 Acc: 0.9574\n",
            "Best val Acc: 0.9873\n",
            "Modello e metriche salvate con successo in /content/drive/MyDrive/Computer Vision/PROJECT/dataset_hand_gesture/hand_craft_dataset/2_VGG16_only_landmark_hand_gesture_cnn_with_metrics.pth.\n"
          ]
        }
      ],
      "source": [
        "train_losses = []\n",
        "val_losses = []\n",
        "val_accuracies = []\n",
        "\n",
        "def train_model(model, train_loader, val_loader, criterion, optimizer, num_epochs=5):\n",
        "    best_model_wts = copy.deepcopy(model.state_dict())\n",
        "    best_acc = 0.0\n",
        "\n",
        "    for epoch in range(num_epochs):\n",
        "        print(f'Epoch {epoch}/{num_epochs - 1}')\n",
        "        print('-' * 10)\n",
        "\n",
        "        for phase in ['train', 'val']:\n",
        "            if phase == 'train':\n",
        "                model.train()\n",
        "                dataloader = train_loader\n",
        "            else:\n",
        "                model.eval()\n",
        "                dataloader = val_loader\n",
        "\n",
        "            running_loss = 0.0\n",
        "            running_corrects = 0\n",
        "\n",
        "            for inputs, labels in tqdm(dataloader, desc=f'{phase} Epoch {epoch}/{num_epochs - 1}', leave=False):\n",
        "                inputs = inputs.to(device)\n",
        "                labels = labels.to(device)\n",
        "\n",
        "                optimizer.zero_grad()\n",
        "\n",
        "                with torch.set_grad_enabled(phase == 'train'):\n",
        "                    outputs = model(inputs)\n",
        "                    _, preds = torch.max(outputs, 1)\n",
        "                    loss = criterion(outputs, labels)\n",
        "\n",
        "                    if phase == 'train':\n",
        "                        loss.backward()\n",
        "                        optimizer.step()\n",
        "\n",
        "                running_loss += loss.item() * inputs.size(0)\n",
        "                running_corrects += torch.sum(preds == labels.data)\n",
        "\n",
        "            epoch_loss = running_loss / len(dataloader.dataset)\n",
        "            epoch_acc = running_corrects.double() / len(dataloader.dataset)\n",
        "\n",
        "            print(f'{phase} Loss: {epoch_loss:.4f} Acc: {epoch_acc:.4f}')\n",
        "\n",
        "            if phase == 'train':\n",
        "                train_losses.append(epoch_loss)\n",
        "            else:\n",
        "                val_losses.append(epoch_loss)\n",
        "                val_accuracies.append(epoch_acc)\n",
        "\n",
        "                if epoch_acc > best_acc:\n",
        "                    best_acc = epoch_acc\n",
        "                    best_model_wts = copy.deepcopy(model.state_dict())\n",
        "\n",
        "    print(f'Best val Acc: {best_acc:.4f}')\n",
        "\n",
        "    model.load_state_dict(best_model_wts)\n",
        "    return model\n",
        "\n",
        "\n",
        "model = train_model(model, train_loader, val_loader, criterion, optimizer, num_epochs=5)\n",
        "\n",
        "save_path = '/content/drive/MyDrive/Computer Vision/PROJECT/dataset_hand_gesture/hand_craft_dataset/2_VGG16_only_landmark_hand_gesture_cnn_with_metrics.pth'\n",
        "\n",
        "\n",
        "torch.save({\n",
        "    'model_state_dict': model.state_dict(),\n",
        "    'train_losses': train_losses,\n",
        "    'val_losses': val_losses,\n",
        "    'val_accuracies': val_accuracies,\n",
        "}, save_path)\n",
        "\n",
        "print(f\"Modello e metriche salvate con successo in {save_path}.\")"
      ]
    },
    {
      "cell_type": "code",
      "execution_count": null,
      "metadata": {
        "colab": {
          "base_uri": "https://localhost:8080/",
          "height": 607
        },
        "id": "m61z2YTggy3c",
        "outputId": "3bf09692-b082-4da2-aeba-c7f2a4bc18cc"
      },
      "outputs": [
        {
          "output_type": "display_data",
          "data": {
            "text/plain": [
              "<Figure size 1200x600 with 3 Axes>"
            ],
            "image/png": "[encoded data removed]"
          },
          "metadata": {}
        }
      ],
      "source": [
        "file_path = '/content/drive/MyDrive/Computer Vision/PROJECT/dataset_hand_gesture/hand_craft_dataset/2_VGG16_only_landmark_hand_gesture_cnn_with_metrics.pth'\n",
        "\n",
        "checkpoint = torch.load(file_path, map_location=torch.device('cpu'))\n",
        "\n",
        "train_losses = checkpoint['train_losses']\n",
        "val_losses = checkpoint['val_losses']\n",
        "val_accuracies = checkpoint['val_accuracies']\n",
        "\n",
        "if isinstance(val_accuracies[0], torch.Tensor):\n",
        "    val_accuracies = [acc.cpu().numpy() for acc in val_accuracies]\n",
        "\n",
        "epochs = range(1, len(train_losses) + 1)\n",
        "\n",
        "plt.figure(figsize=(12, 6))\n",
        "\n",
        "# Plot del training loss\n",
        "plt.subplot(1, 3, 1)\n",
        "plt.plot(epochs, train_losses, label='Train Loss')\n",
        "plt.xlabel('Epochs')\n",
        "plt.ylabel('Loss')\n",
        "plt.title('Training Loss')\n",
        "plt.legend()\n",
        "\n",
        "# Plot del validation loss\n",
        "plt.subplot(1, 3, 2)\n",
        "plt.plot(epochs, val_losses, label='Validation Loss')\n",
        "plt.xlabel('Epochs')\n",
        "plt.ylabel('Loss')\n",
        "plt.title('Validation Loss')\n",
        "plt.legend()\n",
        "\n",
        "# Plot della validation accuracy\n",
        "plt.subplot(1, 3, 3)\n",
        "plt.plot(epochs, val_accuracies, label='Validation Accuracy')\n",
        "plt.xlabel('Epochs')\n",
        "plt.ylabel('Accuracy')\n",
        "plt.title('Validation Accuracy')\n",
        "plt.legend()\n",
        "\n",
        "plt.tight_layout()\n",
        "plt.show()\n"
      ]
    },
    {
      "cell_type": "markdown",
      "metadata": {
        "id": "fU-3TxSdhQYb"
      },
      "source": [
        "# Test of CNN"
      ]
    },
    {
      "cell_type": "code",
      "execution_count": null,
      "metadata": {
        "colab": {
          "base_uri": "https://localhost:8080/",
          "height": 1000
        },
        "id": "TfkIZMKkhKqP",
        "outputId": "832a5f6c-5640-4d13-c03f-f048712ec11e"
      },
      "outputs": [
        {
          "output_type": "stream",
          "name": "stdout",
          "text": [
            "Accuracy: 0.9810\n",
            "Precision: 0.9838\n",
            "Recall: 0.9810\n",
            "F1 Score: 0.9801\n",
            "Classification Report:\n",
            "              precision    recall  f1-score   support\n",
            "\n",
            "           A       1.00      1.00      1.00        30\n",
            "           B       0.91      1.00      0.95        31\n",
            "           C       1.00      1.00      1.00        31\n",
            "           D       0.97      1.00      0.98        31\n",
            "           E       0.97      1.00      0.98        31\n",
            "           F       1.00      0.90      0.95        31\n",
            "           G       1.00      1.00      1.00        31\n",
            "           H       1.00      1.00      1.00        31\n",
            "           I       1.00      0.94      0.97        31\n",
            "           J       1.00      1.00      1.00        31\n",
            "           K       1.00      0.61      0.76        31\n",
            "           L       1.00      1.00      1.00        31\n",
            "           M       1.00      1.00      1.00        31\n",
            "           N       1.00      1.00      1.00        31\n",
            "           O       1.00      1.00      1.00        31\n",
            "           P       1.00      1.00      1.00        31\n",
            "           Q       1.00      1.00      1.00        31\n",
            "           R       0.97      1.00      0.98        31\n",
            "           S       1.00      1.00      1.00        31\n",
            "           T       1.00      1.00      1.00        31\n",
            "           U       0.78      1.00      0.87        31\n",
            "           V       0.97      1.00      0.98        31\n",
            "           W       1.00      1.00      1.00        31\n",
            "           X       1.00      1.00      1.00        31\n",
            "           Y       1.00      1.00      1.00        31\n",
            "           Z       0.97      1.00      0.98        31\n",
            "         del       1.00      1.00      1.00        30\n",
            "     nothing       1.00      1.00      1.00        30\n",
            "       space       1.00      1.00      1.00        31\n",
            "\n",
            "    accuracy                           0.98       896\n",
            "   macro avg       0.98      0.98      0.98       896\n",
            "weighted avg       0.98      0.98      0.98       896\n",
            "\n"
          ]
        },
        {
          "output_type": "display_data",
          "data": {
            "text/plain": [
              "<Figure size 1600x1200 with 2 Axes>"
            ],
            "image/png": "[encoded data removed]"
          },
          "metadata": {}
        }
      ],
      "source": [
        "file_path = '/content/drive/MyDrive/Computer Vision/PROJECT/dataset_hand_gesture/hand_craft_dataset/2_VGG16_only_landmark_hand_gesture_cnn_with_metrics.pth'\n",
        "\n",
        "num_classes = len(test_data.classes)\n",
        "model = HandGestureVGG16(num_classes=num_classes)\n",
        "\n",
        "checkpoint = torch.load(file_path)\n",
        "model.load_state_dict(checkpoint['model_state_dict'])\n",
        "\n",
        "device = torch.device('cuda' if torch.cuda.is_available() else 'cpu')\n",
        "model.to(device)\n",
        "\n",
        "def calculate_metrics(model, test_loader):\n",
        "    model.eval()\n",
        "    all_preds = []\n",
        "    all_labels = []\n",
        "\n",
        "    with torch.no_grad():\n",
        "        for inputs, labels in test_loader:\n",
        "            inputs = inputs.to(device)\n",
        "            labels = labels.to(device)\n",
        "            outputs = model(inputs)\n",
        "            _, preds = torch.max(outputs, 1)\n",
        "            all_preds.extend(preds.cpu().numpy())\n",
        "            all_labels.extend(labels.cpu().numpy())\n",
        "\n",
        "    all_preds = np.array(all_preds)\n",
        "    all_labels = np.array(all_labels)\n",
        "\n",
        "    precision = precision_score(all_labels, all_preds, average='weighted')\n",
        "    recall = recall_score(all_labels, all_preds, average='weighted')\n",
        "    f1 = f1_score(all_labels, all_preds, average='weighted')\n",
        "    conf_matrix = confusion_matrix(all_labels, all_preds)\n",
        "    class_report = classification_report(all_labels, all_preds, target_names=test_data.classes)\n",
        "\n",
        "    accuracy = np.sum(all_preds == all_labels) / len(all_labels)\n",
        "\n",
        "    print(f'Accuracy: {accuracy:.4f}')\n",
        "    print(f'Precision: {precision:.4f}')\n",
        "    print(f'Recall: {recall:.4f}')\n",
        "    print(f'F1 Score: {f1:.4f}')\n",
        "    print('Classification Report:')\n",
        "    print(class_report)\n",
        "\n",
        "    plt.figure(figsize=(16, 12))\n",
        "    sns.heatmap(conf_matrix, annot=True, fmt=\"d\", cmap=\"Blues\", xticklabels=test_data.classes, yticklabels=test_data.classes)\n",
        "    plt.xlabel('Predicted')\n",
        "    plt.ylabel('True')\n",
        "    plt.title('Confusion Matrix')\n",
        "    plt.show()\n",
        "\n",
        "calculate_metrics(model, test_loader)"
      ]
    }
  ],
  "metadata": {
    "colab": {
      "provenance": [],
      "gpuType": "T4"
    },
    "kernelspec": {
      "display_name": "Python 3",
      "name": "python3"
    },
    "language_info": {
      "name": "python"
    },
    "accelerator": "GPU"
  },
  "nbformat": 4,
  "nbformat_minor": 0
}